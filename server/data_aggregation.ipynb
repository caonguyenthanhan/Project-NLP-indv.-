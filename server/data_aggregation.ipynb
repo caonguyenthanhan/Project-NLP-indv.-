{
  "nbformat": 4,
  "nbformat_minor": 0,
  "metadata": {
    "colab": {
      "provenance": [],
      "machine_shape": "hm",
      "gpuType": "A100"
    },
    "kernelspec": {
      "name": "python3",
      "display_name": "Python 3"
    },
    "language_info": {
      "name": "python"
    },
    "accelerator": "GPU"
  },
  "cells": [
    {
      "cell_type": "code",
      "source": [
        "# Bước 1: Cài đặt thư viện cần thiết (nếu chưa có)\n",
        "#!pip install gspread pandas google-auth-oauthlib google-auth-httplib2"
      ],
      "metadata": {
        "id": "NHFCpwaQLMkL"
      },
      "execution_count": 7,
      "outputs": []
    },
    {
      "cell_type": "code",
      "source": [
        "# Bước 2: Import thư viện\n",
        "import pandas as pd\n",
        "import requests\n",
        "import io\n",
        "from google.colab import auth\n",
        "from google.colab import files # Để tải file kết quả về máy\n",
        "from google.auth import default\n",
        "import os # Để kiểm tra file tồn tại"
      ],
      "metadata": {
        "id": "pd8pZxRIM2pP"
      },
      "execution_count": 8,
      "outputs": []
    },
    {
      "cell_type": "code",
      "source": [
        "# --- Bước 3: Xác thực người dùng ---\n",
        "# Vẫn cần thiết để có quyền tải file Google Sheet nếu nó không công khai hoàn toàn\n",
        "print(\"Authenticating user...\")\n",
        "try:\n",
        "    auth.authenticate_user()\n",
        "    creds, _ = default()\n",
        "    print(\"Authentication successful (may be needed for download).\")\n",
        "except Exception as e:\n",
        "    print(f\"Authentication failed: {e}\")\n",
        "    # Thoát nếu xác thực không thành công\n",
        "    exit()"
      ],
      "metadata": {
        "colab": {
          "base_uri": "https://localhost:8080/"
        },
        "id": "JPcocQ9qM5D1",
        "outputId": "9faec42a-b968-46cc-f32c-f4dbfe81b5ce"
      },
      "execution_count": 9,
      "outputs": [
        {
          "output_type": "stream",
          "name": "stdout",
          "text": [
            "Authenticating user...\n",
            "Authentication successful (may be needed for download).\n"
          ]
        }
      ]
    },
    {
      "cell_type": "code",
      "source": [
        "# --- Bước 4: Tải file Google Sheet về dưới dạng Excel (.xlsx) ---\n",
        "google_sheet_url = 'https://docs.google.com/spreadsheets/d/1uSUkePcSsuECugJMdkzxw4RLpD9xAphXa6vVObSP2oA/edit?usp=sharing'\n",
        "# Trích xuất File ID từ URL\n",
        "try:\n",
        "    file_id = google_sheet_url.split('/d/')[1].split('/')[0]\n",
        "except IndexError:\n",
        "    print(\"Error: Could not extract File ID from the Google Sheet URL.\")\n",
        "    exit()\n",
        "\n",
        "# Tạo URL export sang định dạng xlsx\n",
        "download_url = f'https://docs.google.com/spreadsheets/d/{file_id}/export?format=xlsx'\n",
        "local_xlsx_filename = 'downloaded_sheet.xlsx' # Tên file sẽ lưu trong Colab\n",
        "\n",
        "print(f\"\\nAttempting to download Google Sheet as '{local_xlsx_filename}'...\")\n",
        "print(f\"Export URL: {download_url}\")\n",
        "\n",
        "try:\n",
        "    # Chuẩn bị header xác thực cho requests\n",
        "    import google.auth.transport.requests\n",
        "    request_session = google.auth.transport.requests.Request()\n",
        "    creds.refresh(request_session) # Làm mới token nếu cần\n",
        "    headers = {'Authorization': 'Bearer ' + creds.token}\n",
        "\n",
        "    # Thực hiện yêu cầu tải file\n",
        "    response = requests.get(download_url, headers=headers, stream=True) # stream=True tốt cho file lớn\n",
        "    response.raise_for_status() # Báo lỗi nếu có lỗi HTTP (4xx, 5xx)\n",
        "\n",
        "    # Ghi nội dung tải về vào file cục bộ trong Colab\n",
        "    with open(local_xlsx_filename, 'wb') as f:\n",
        "        for chunk in response.iter_content(chunk_size=8192):\n",
        "            f.write(chunk)\n",
        "    print(f\"Successfully downloaded and saved as '{local_xlsx_filename}'.\")\n",
        "\n",
        "except requests.exceptions.RequestException as e:\n",
        "    print(f\"Error downloading file: {e}\")\n",
        "    print(\"Possible reasons:\")\n",
        "    print(\"- Incorrect Google Sheet URL or File ID.\")\n",
        "    print(\"- Insufficient permissions for the authenticated user to access/download.\")\n",
        "    print(\"- Network issues.\")\n",
        "    exit()\n",
        "except Exception as e:\n",
        "    print(f\"An unexpected error occurred during download: {e}\")\n",
        "    exit()\n"
      ],
      "metadata": {
        "colab": {
          "base_uri": "https://localhost:8080/"
        },
        "id": "itZ3hcwWM8oz",
        "outputId": "89dca4de-a662-404d-d3ca-2381b6ca5755"
      },
      "execution_count": 10,
      "outputs": [
        {
          "output_type": "stream",
          "name": "stdout",
          "text": [
            "\n",
            "Attempting to download Google Sheet as 'downloaded_sheet.xlsx'...\n",
            "Export URL: https://docs.google.com/spreadsheets/d/1uSUkePcSsuECugJMdkzxw4RLpD9xAphXa6vVObSP2oA/export?format=xlsx\n",
            "Successfully downloaded and saved as 'downloaded_sheet.xlsx'.\n"
          ]
        }
      ]
    },
    {
      "cell_type": "code",
      "source": [
        "\n",
        "# --- Bước 5: Xử lý file Excel đã tải về ---\n",
        "sheet_names_to_process = ['FAQ', 'SP', 'EVEN']\n",
        "all_data = [] # List để lưu các DataFrame đã xử lý\n",
        "print(f\"\\nProcessing sheets from '{local_xlsx_filename}': {', '.join(sheet_names_to_process)}\")\n",
        "\n",
        "# Kiểm tra file đã tải về có tồn tại không\n",
        "if not os.path.exists(local_xlsx_filename):\n",
        "     print(f\"Error: The downloaded file '{local_xlsx_filename}' was not found. Cannot process.\")\n",
        "     exit()\n",
        "\n",
        "try:\n",
        "    # Đọc các sheet cụ thể từ file Excel vào một dictionary\n",
        "    # header=0 nghĩa là dòng đầu tiên trong Excel là dòng tiêu đề\n",
        "    excel_data = pd.read_excel(local_xlsx_filename,\n",
        "                               sheet_name=sheet_names_to_process,\n",
        "                               header=0,\n",
        "                               engine='openpyxl') # Chỉ định engine để đọc xlsx\n",
        "\n",
        "    # Lặp qua dictionary các DataFrame (mỗi key là tên sheet)\n",
        "    for sheet_name, df_sheet in excel_data.items():\n",
        "        print(f\" - Processing sheet: '{sheet_name}'...\")\n",
        "        # Kiểm tra xem sheet có dữ liệu và đủ 2 cột không\n",
        "        if not df_sheet.empty and len(df_sheet.columns) >= 2:\n",
        "            # Chọn 2 cột đầu tiên (giả định là Question và Answer)\n",
        "            # iloc[:, [0, 1]] chọn cột theo vị trí index\n",
        "            df_processed = df_sheet.iloc[:, [0, 1]].copy()\n",
        "            # Đặt lại tên cột\n",
        "            df_processed.columns = ['Question', 'Answer']\n",
        "            # Thêm cột Category\n",
        "            df_processed['Category'] = sheet_name\n",
        "\n",
        "            # Loại bỏ các hàng có 'Question' là NaN hoặc rỗng/chỉ chứa khoảng trắng\n",
        "            df_processed.dropna(subset=['Question'], inplace=True)\n",
        "            # Chuyển sang string để dùng .str.strip()\n",
        "            df_processed = df_processed[df_processed['Question'].astype(str).str.strip() != '']\n",
        "\n",
        "            # Chỉ thêm vào list nếu có dữ liệu hợp lệ sau khi xử lý\n",
        "            if not df_processed.empty:\n",
        "                 all_data.append(df_processed)\n",
        "                 print(f\"   > Found and processed {len(df_processed)} valid rows.\")\n",
        "            else:\n",
        "                 print(f\"   > No valid data rows found after processing.\")\n",
        "\n",
        "        elif df_sheet.empty:\n",
        "             print(f\"   > Warning: Sheet '{sheet_name}' is empty. Skipping.\")\n",
        "        else: # Không đủ 2 cột\n",
        "            print(f\"   > Warning: Sheet '{sheet_name}' has fewer than 2 columns. Skipping.\")\n",
        "\n",
        "except ValueError as e:\n",
        "     # Lỗi này thường xảy ra nếu tên sheet không tồn tại trong file Excel\n",
        "     print(f\"Error reading Excel file: {e}\")\n",
        "     print(f\"Please ensure the sheet names ({', '.join(sheet_names_to_process)}) exist in '{local_xlsx_filename}'.\")\n",
        "     exit()\n",
        "except Exception as e:\n",
        "    print(f\"An unexpected error occurred while processing the Excel file: {e}\")\n",
        "    exit()\n"
      ],
      "metadata": {
        "colab": {
          "base_uri": "https://localhost:8080/"
        },
        "id": "MXV7coWsM_uk",
        "outputId": "1b29d92a-68b8-41de-a0b4-dfdb846bfc14"
      },
      "execution_count": 11,
      "outputs": [
        {
          "output_type": "stream",
          "name": "stdout",
          "text": [
            "\n",
            "Processing sheets from 'downloaded_sheet.xlsx': FAQ, SP, EVEN\n",
            " - Processing sheet: 'FAQ'...\n",
            "   > Found and processed 12 valid rows.\n",
            " - Processing sheet: 'SP'...\n",
            "   > Found and processed 10 valid rows.\n",
            " - Processing sheet: 'EVEN'...\n",
            "   > Found and processed 9 valid rows.\n"
          ]
        }
      ]
    },
    {
      "cell_type": "code",
      "source": [
        "\n",
        "# --- Bước 6: Kết hợp dữ liệu và Lưu file CSV ---\n",
        "if all_data:\n",
        "    print(\"\\nCombining data from processed sheets...\")\n",
        "    df_combined = pd.concat(all_data, ignore_index=True)\n",
        "    # Đảm bảo đúng thứ tự cột\n",
        "    df_combined = df_combined[['Category', 'Question', 'Answer']]\n",
        "    print(\"Data combined successfully.\")\n",
        "\n",
        "    output_filename = 'knowledge_base.csv'\n",
        "    print(f\"Saving combined data to '{output_filename}'...\")\n",
        "    try:\n",
        "        # Lưu ra file CSV trong môi trường Colab\n",
        "        df_combined.to_csv(output_filename, index=False, encoding='utf-8')\n",
        "        print(f\"Successfully saved {len(df_combined)} rows to '{output_filename}'.\")\n",
        "\n",
        "        # Hiển thị 5 dòng đầu tiên để kiểm tra (tùy chọn)\n",
        "        print(\"\\nFirst 5 rows of the combined data:\")\n",
        "        print(df_combined.head().to_markdown(index=False, numalign=\"left\", stralign=\"left\"))\n",
        "\n",
        "        # --- Bước 7: Tải file CSV kết quả về máy tính ---\n",
        "        print(f\"\\nPreparing to download '{output_filename}'...\")\n",
        "        if os.path.exists(output_filename):\n",
        "            try:\n",
        "                files.download(output_filename) # Kích hoạt tải file về trình duyệt\n",
        "                print(f\"Download initiated for '{output_filename}'. Please check your browser.\")\n",
        "            except Exception as e:\n",
        "                print(f\"An error occurred during CSV download: {e}\")\n",
        "        else:\n",
        "            print(f\"Error: Output file '{output_filename}' not found for download.\")\n",
        "\n",
        "    except Exception as e:\n",
        "        print(f\"Error saving file '{output_filename}': {e}\")\n",
        "\n",
        "else:\n",
        "    # Trường hợp không có dữ liệu nào được xử lý thành công\n",
        "    print(\"\\nNo data was successfully processed from any sheet. Output file 'knowledge_base.csv' was not created.\")"
      ],
      "metadata": {
        "colab": {
          "base_uri": "https://localhost:8080/",
          "height": 347
        },
        "id": "PkycASF9M0Fo",
        "outputId": "9614a6e5-c992-47ea-db5a-1ea9c3ee509d"
      },
      "execution_count": 12,
      "outputs": [
        {
          "output_type": "stream",
          "name": "stdout",
          "text": [
            "\n",
            "Combining data from processed sheets...\n",
            "Data combined successfully.\n",
            "Saving combined data to 'knowledge_base.csv'...\n",
            "Successfully saved 31 rows to 'knowledge_base.csv'.\n",
            "\n",
            "First 5 rows of the combined data:\n",
            "| Category   | Question                                       | Answer                                                                                                                                          |\n",
            "|:-----------|:-----------------------------------------------|:------------------------------------------------------------------------------------------------------------------------------------------------|\n",
            "| FAQ        | Địa chỉ trường mình ở đâu?                     | Trường [Tên trường] có địa chỉ tại [Địa chỉ cụ thể]. Bạn có thể xem bản đồ chi tiết trên website [Link bản đồ nếu có].                          |\n",
            "| FAQ        | Số điện thoại liên hệ của trường là gì?        | Bạn có thể liên hệ phòng ban chung qua số [Số điện thoại chung] hoặc truy cập [Link trang liên hệ] để xem SĐT các phòng ban cụ thể.             |\n",
            "| FAQ        | Website chính thức của trường?                 | Website của trường là [Địa chỉ website].                                                                                                        |\n",
            "| FAQ        | Làm sao để đăng ký vào ký túc xá?              | Bạn cần điền đơn đăng ký KTX online tại [Link đăng ký KTX] hoặc liên hệ Ban quản lý KTX tại [Địa chỉ/SĐT Ban QL KTX] trước ngày [Ngày hết hạn]. |\n",
            "| FAQ        | Ký túc xá có những tiện ích gì? Giá bao nhiêu? | KTX của trường có [Liệt kê tiện ích: wifi, nóng lạnh, nhà ăn...] với mức phí khoảng [Số tiền] mỗi tháng. Chi tiết xem tại [Link thông tin KTX]. |\n",
            "\n",
            "Preparing to download 'knowledge_base.csv'...\n"
          ]
        },
        {
          "output_type": "display_data",
          "data": {
            "text/plain": [
              "<IPython.core.display.Javascript object>"
            ],
            "application/javascript": [
              "\n",
              "    async function download(id, filename, size) {\n",
              "      if (!google.colab.kernel.accessAllowed) {\n",
              "        return;\n",
              "      }\n",
              "      const div = document.createElement('div');\n",
              "      const label = document.createElement('label');\n",
              "      label.textContent = `Downloading \"${filename}\": `;\n",
              "      div.appendChild(label);\n",
              "      const progress = document.createElement('progress');\n",
              "      progress.max = size;\n",
              "      div.appendChild(progress);\n",
              "      document.body.appendChild(div);\n",
              "\n",
              "      const buffers = [];\n",
              "      let downloaded = 0;\n",
              "\n",
              "      const channel = await google.colab.kernel.comms.open(id);\n",
              "      // Send a message to notify the kernel that we're ready.\n",
              "      channel.send({})\n",
              "\n",
              "      for await (const message of channel.messages) {\n",
              "        // Send a message to notify the kernel that we're ready.\n",
              "        channel.send({})\n",
              "        if (message.buffers) {\n",
              "          for (const buffer of message.buffers) {\n",
              "            buffers.push(buffer);\n",
              "            downloaded += buffer.byteLength;\n",
              "            progress.value = downloaded;\n",
              "          }\n",
              "        }\n",
              "      }\n",
              "      const blob = new Blob(buffers, {type: 'application/binary'});\n",
              "      const a = document.createElement('a');\n",
              "      a.href = window.URL.createObjectURL(blob);\n",
              "      a.download = filename;\n",
              "      div.appendChild(a);\n",
              "      a.click();\n",
              "      div.remove();\n",
              "    }\n",
              "  "
            ]
          },
          "metadata": {}
        },
        {
          "output_type": "display_data",
          "data": {
            "text/plain": [
              "<IPython.core.display.Javascript object>"
            ],
            "application/javascript": [
              "download(\"download_be6b72be-c119-4f3b-89fd-9fd332035113\", \"knowledge_base.csv\", 6984)"
            ]
          },
          "metadata": {}
        },
        {
          "output_type": "stream",
          "name": "stdout",
          "text": [
            "Download initiated for 'knowledge_base.csv'. Please check your browser.\n"
          ]
        }
      ]
    }
  ]
}